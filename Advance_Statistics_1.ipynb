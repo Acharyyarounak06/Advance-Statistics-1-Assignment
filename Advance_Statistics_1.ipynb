{
  "nbformat": 4,
  "nbformat_minor": 0,
  "metadata": {
    "colab": {
      "provenance": []
    },
    "kernelspec": {
      "name": "python3",
      "display_name": "Python 3"
    },
    "language_info": {
      "name": "python"
    }
  },
  "cells": [
    {
      "cell_type": "code",
      "execution_count": null,
      "metadata": {
        "id": "7-aBxlMHtA41"
      },
      "outputs": [],
      "source": [
        "# Q1) Define the z-statistic and explain its relationship to the standard normal distribution. How is the z-statistic used in hypothesis testing?\n",
        "# Ans. The z-statistic is a measure that indicates how many standard deviations a data point or sample mean is from the population mean.\n",
        "\n",
        "# Relationship to the Standard Normal Distribution\n",
        "# The z-statistic follows the standard normal distribution, which has a mean of 0 and a standard deviation of 1.\n",
        "\n",
        "# Use in Hypothesis Testing\n",
        "# The z-statistic is used to determine the probability of observing a value as extreme as the test statistic under the null hypothesis. By comparing this probability (p-value) to a significance level, researchers\n",
        "# decide whether to reject or fail to reject the null hypothesis."
      ]
    },
    {
      "cell_type": "code",
      "source": [
        "# Q2) What is a p-value, and how is it used in hypothesis testing? What does it mean if the p-value is very small (e.g., 0.01)?\n",
        "# Ans. The p-value is the probability of observing a test statistic as extreme as, or more extreme than, the one calculated from the sample data, assuming the null hypothesis is true.\n",
        "\n",
        "# Use in Hypothesis Testing\n",
        "# It helps assess the strength of evidence against the null hypothesis.\n",
        "# A small p-value (e.g., 0.01) suggests strong evidence to reject the null hypothesis, indicating the observed result is unlikely under the null.\n",
        "# Interpretation of Small p-values\n",
        "# A very small p-value (e.g., 0.01) indicates that the observed data is very unlikely under the null hypothesis, often leading to its rejection at typical significance levels (e.g., 0.05)."
      ],
      "metadata": {
        "id": "A86EBIT4vvDm"
      },
      "execution_count": null,
      "outputs": []
    },
    {
      "cell_type": "code",
      "source": [
        "# Q3) Compare and contrast the binomial and Bernoulli distributions.\n",
        "# Ans. The Bernoulli distribution describes a single trial with two possible outcomes: success (probability p) and failure (probablity 1-p)\n",
        "# The binomial distribution extends this to multiple independent trials (n), each of the succes probablity of success (p)."
      ],
      "metadata": {
        "id": "DqaSCw1UwGGy"
      },
      "execution_count": null,
      "outputs": []
    },
    {
      "cell_type": "code",
      "source": [
        "# Q4)Under what conditions is the binomial distribution used, and how does it relate to the Bernoulli distribution?\n",
        "# Ans. The binomial distribution is used when:\n",
        "\n",
        "# a) There are a fixed number of independent trials (n).\n",
        "# b) Each trial has only two outcomes: success or failure.\n",
        "# c) The probability of success (p) is the same for each trial.\n",
        "\n",
        "# Relationship to Bernoulli Distribution:\n",
        "# The binomial distribution is the sum of n independent Bernoulli trials. A Bernoulli distribution is a special case of the binomial distribution with n=1."
      ],
      "metadata": {
        "id": "FEvx7KidzBmo"
      },
      "execution_count": null,
      "outputs": []
    },
    {
      "cell_type": "code",
      "source": [
        "# Q5)  What are the key properties of the Poisson distribution, and when is it appropriate to use this distribution?\n",
        "# Ans. The Poisson distribution models the number of events occurring in a fixed interval of time or space when:\n",
        "\n",
        "#a)Events occur independently.\n",
        "#b)The average rate (λ) of occurrence is constant.\n",
        "#c)Two events cannot occur simultaneously.\n",
        "\n",
        "# Key Properties:\n",
        "# Mean = Variance = λ.\n",
        "# Suitable for rare events (e.g., customer arrivals, phone call frequency)."
      ],
      "metadata": {
        "id": "-st7Qmst0sFy"
      },
      "execution_count": null,
      "outputs": []
    },
    {
      "cell_type": "code",
      "source": [
        "# Q6) Define the terms \"probability distribution\" and \"probability density function\" (PDF). How does a PDF differ from a probability mass function (PMF)?\n",
        "# Ans. Probability Distribution: Describes how probabilities are distributed over possible outcomes of a random variable.\n",
        "# Probability Density Function (PDF): Used for continuous random variables, showing the relative likelihood of a value within an interval. The total area under the curve equals 1.\n",
        "# Probability Mass Function (PMF): Used for discrete random variables, assigning probabilities to specific outcomes."
      ],
      "metadata": {
        "id": "AL6K-0eN10_q"
      },
      "execution_count": null,
      "outputs": []
    },
    {
      "cell_type": "code",
      "source": [
        "# Q7) Explain the Central Limit Theorem (CLT) with example.\n",
        "# Ans. The Central Limit Theorem (CLT) states that the sampling distribution of the sample mean approaches a normal distribution as the sample size increases, regardless of the population's original distribution,\n",
        "# provided the samples are independent and identically distributed.\n",
        "\n",
        "# Example:\n",
        "# If we repeatedly take samples of size 30 from a population of any shape and calculate their means, the distribution of these means will be approximately normal, especially as the sample size grows."
      ],
      "metadata": {
        "id": "RuoT_Ty-2tgB"
      },
      "execution_count": null,
      "outputs": []
    },
    {
      "cell_type": "code",
      "source": [
        "# Q8) Compare z-scores and t-scores. When should you use a z-score, and when should a t-score be applied instead?\n",
        "# Ans. Z-scores: Used when the population standard deviation is known or the sample size is large (n>30). It measures how many standard deviations a value is from the population mean.\n",
        "\n",
        "# T-scores: Used when the population standard deviation is unknown and the sample size is small (n≤30). It accounts for extra uncertainty by using the t-distribution, which has heavier tails than the normal\n",
        "# distribution.\n",
        "\n",
        "# Key Difference:\n",
        "# Use z-scores with known population parameters and large samples; use t-scores with small samples and unknown population parameters."
      ],
      "metadata": {
        "id": "ylaGX3ac4E3L"
      },
      "execution_count": null,
      "outputs": []
    },
    {
      "cell_type": "code",
      "source": [
        "# Q9) Given a sample mean of 105, a population mean of 100, a standard deviation of 15, and a samplesize of 25, calculate the z-score and p-value. Based on a significance level of 0.05, do you reject or fail to\n",
        "# reject the null hypothesis?\n",
        "\n",
        "# Task: Write Python code to calculate the z-score and p-value for the given data.\n",
        "# Objective: Apply the formula for the z-score and interpret the p-value for hypothesis testing.\n",
        "\n",
        "# Ans.\n",
        "import scipy.stats as stats\n",
        "sample_mean = 105\n",
        "population_mean = 100\n",
        "std_dev = 15\n",
        "sample_size = 25\n",
        "alpha = 0.05\n",
        "z = (sample_mean - population_mean) / (std_dev / (sample_size**0.5))\n",
        "p_value = 2 * (1 - stats.norm.cdf(abs(z)))\n",
        "decision = \"Reject H0\" if p_value < alpha else \"Fail to reject H0\"\n",
        "print(f\"Z-score: {z:.2f}, P-value: {p_value:.4f}, Decision: {decision}\")"
      ],
      "metadata": {
        "id": "0_7K-nTs5Egc",
        "colab": {
          "base_uri": "https://localhost:8080/"
        },
        "outputId": "b4c985d2-9ec2-4079-81b1-944014628c79"
      },
      "execution_count": 2,
      "outputs": [
        {
          "output_type": "stream",
          "name": "stdout",
          "text": [
            "Z-score: 1.67, P-value: 0.0956, Decision: Fail to reject H0\n"
          ]
        }
      ]
    },
    {
      "cell_type": "code",
      "source": [
        "# Q10) Simulate a binomial distribution with 10 trials and a probability of success of 0.6 using Python.Generate 1,000 samples and plot the distribution. What is the expected mean and variance?\n",
        "\n",
        "# Task: Use Python to generate the data, plot the distribution, and calculate the mean and variance.\n",
        "# Objective: Understand the properties of a binomial distribution and verify them through simulation.\n",
        "\n",
        "# Ans.\n",
        "import numpy as np\n",
        "import matplotlib.pyplot as plt\n",
        "n = 10  # number of trials\n",
        "p = 0.6  # probability of success\n",
        "samples = 1000  # number of samples\n",
        "data = np.random.binomial(n, p, samples)\n",
        "mean = np.mean(data)\n",
        "variance = np.var(data)\n",
        "plt.hist(data, bins=range(n+2), density=True, edgecolor='black', alpha=0.7)\n",
        "plt.title('Binomial Distribution (n=10, p=0.6)')\n",
        "plt.xlabel('Number of Successes')\n",
        "plt.ylabel('Probability')\n",
        "plt.show()\n",
        "print(f\"Expected Mean: {n * p}\")\n",
        "print(f\"Simulated Mean: {mean:.2f}\")\n",
        "print(f\"Expected Variance: {n * p * (1 - p)}\")\n",
        "print(f\"Simulated Variance: {variance:.2f}\")"
      ],
      "metadata": {
        "colab": {
          "base_uri": "https://localhost:8080/",
          "height": 541
        },
        "id": "3ZLGNV7B7J1h",
        "outputId": "19a9d74e-8247-465c-deb2-88f632280ff6"
      },
      "execution_count": 3,
      "outputs": [
        {
          "output_type": "display_data",
          "data": {
            "text/plain": [
              "<Figure size 640x480 with 1 Axes>"
            ],
            "image/png": "[encoded data removed]"
          },
          "metadata": {}
        },
        {
          "output_type": "stream",
          "name": "stdout",
          "text": [
            "Expected Mean: 6.0\n",
            "Simulated Mean: 5.95\n",
            "Expected Variance: 2.4000000000000004\n",
            "Simulated Variance: 2.20\n"
          ]
        }
      ]
    }
  ]
}